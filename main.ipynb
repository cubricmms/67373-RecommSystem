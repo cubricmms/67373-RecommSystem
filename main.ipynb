{
 "metadata": {
  "language_info": {
   "codemirror_mode": {
    "name": "ipython",
    "version": 3
   },
   "file_extension": ".py",
   "mimetype": "text/x-python",
   "name": "python",
   "nbconvert_exporter": "python",
   "pygments_lexer": "ipython3",
   "version": "3.9.5"
  },
  "orig_nbformat": 4,
  "kernelspec": {
   "name": "python3",
   "display_name": "Python 3.9.5 64-bit"
  },
  "interpreter": {
   "hash": "aee8b7b246df8f9039afb4144a1f6fd8d2ca17a180786b69acc140d282b71a49"
  }
 },
 "nbformat": 4,
 "nbformat_minor": 2,
 "cells": [
  {
   "source": [
    "# 67373视频推荐系统"
   ],
   "cell_type": "markdown",
   "metadata": {}
  },
  {
   "cell_type": "code",
   "execution_count": 1,
   "metadata": {},
   "outputs": [],
   "source": [
    "# 从本地读取数据集\n",
    "f = open(\"dataset/dataset.txt\", \"r\")\n",
    "lines = f.read().splitlines()\n",
    "dataset = []\n",
    "for line in lines:\n",
    "    # arr格式为: [title, cate_name, cate_id, duration, creation_time, video_id]\n",
    "    arr = line.split(',')\n",
    "    dataset.append(arr)"
   ]
  }
 ]
}